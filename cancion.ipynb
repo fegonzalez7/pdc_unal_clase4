{
 "cells": [
  {
   "attachments": {},
   "cell_type": "markdown",
   "metadata": {},
   "source": [
    "<a href=\"https://www.youtube.com/watch?v=6iOlB0QLy84&ab_channel=Antena3\">Video Melquiades</a>\n"
   ]
  },
  {
   "cell_type": "code",
   "execution_count": 2,
   "metadata": {},
   "outputs": [],
   "source": [
    "import random\n",
    "import os\n",
    "from gtts import gTTS\n",
    "from pydub import AudioSegment"
   ]
  },
  {
   "cell_type": "code",
   "execution_count": 3,
   "metadata": {},
   "outputs": [],
   "source": [
    "sujetos = [\"mami\", \"bebé\", \"princess\", \"mami\"] \n",
    "intenciones = [\"yo quiero\", \"yo puedo\", \"yo vengo a\", \"voy a\"]\n",
    "verbos = [\"encendelte\", \"amalte\", \"ligal\", \"jugal\"]\n",
    "advs = [\"suave\", \"lento\", \"lápido\", \"fuelte\"]\n",
    "complementos_uno = [\"hasta que salga el sol\", \"toda la noche\",\n",
    "\"hasta el amanecer\", \"todo el déa\"]\n",
    "complementos_dos = [\"sin anestesia\", \"sin compromiso\", \"feis to feis\",\n",
    "\"sin miedo\"]"
   ]
  },
  {
   "cell_type": "code",
   "execution_count": 4,
   "metadata": {},
   "outputs": [],
   "source": [
    "sujeto_seleccionado = random.choice(sujetos)\n",
    "intencion_seleccionada = random.choice(intenciones)\n",
    "verbo_seleccionado = random.choice(verbos)\n",
    "adv_seleccionado = random.choice(advs)\n",
    "compl1s_seleccionado = random.choice(complementos_uno)\n",
    "compl2s_seleccionado = random.choice(complementos_dos)"
   ]
  },
  {
   "cell_type": "code",
   "execution_count": 5,
   "metadata": {},
   "outputs": [
    {
     "name": "stdout",
     "output_type": "stream",
     "text": [
      "mami voy a ligal fuelte hasta el amanecer sin compromiso\n"
     ]
    }
   ],
   "source": [
    "letra =  sujeto_seleccionado + \" \" + intencion_seleccionada + \" \" + verbo_seleccionado + \" \" + adv_seleccionado + \" \" + compl1s_seleccionado + \" \" + compl2s_seleccionado\n",
    "print(letra) "
   ]
  },
  {
   "cell_type": "code",
   "execution_count": 6,
   "metadata": {},
   "outputs": [],
   "source": [
    "audio = gTTS(text=letra, lang=\"es\", slow=False)\n",
    "audio.save(\"letra.mp3\")\n",
    "# os.system(\"start letra.mp3\")"
   ]
  },
  {
   "cell_type": "code",
   "execution_count": 7,
   "metadata": {},
   "outputs": [
    {
     "data": {
      "text/plain": [
       "<_io.BufferedRandom name='combined.mp3'>"
      ]
     },
     "execution_count": 7,
     "metadata": {},
     "output_type": "execute_result"
    }
   ],
   "source": [
    "sound1 = AudioSegment.from_file(\"ritmo.wav\")\n",
    "sound2 = AudioSegment.from_mp3(\"letra.mp3\")\n",
    "combined = sound1.overlay(sound2)\n",
    "combined.export(\"combined.mp3\", format='mp3')\n"
   ]
  }
 ],
 "metadata": {
  "kernelspec": {
   "display_name": "Python 3.8.9 64-bit",
   "language": "python",
   "name": "python3"
  },
  "language_info": {
   "codemirror_mode": {
    "name": "ipython",
    "version": 3
   },
   "file_extension": ".py",
   "mimetype": "text/x-python",
   "name": "python",
   "nbconvert_exporter": "python",
   "pygments_lexer": "ipython3",
   "version": "3.8.9"
  },
  "orig_nbformat": 4,
  "vscode": {
   "interpreter": {
    "hash": "570feb405e2e27c949193ac68f46852414290d515b0ba6e5d90d076ed2284471"
   }
  }
 },
 "nbformat": 4,
 "nbformat_minor": 2
}
